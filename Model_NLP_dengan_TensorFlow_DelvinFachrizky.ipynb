{
 "cells": [
  {
   "cell_type": "markdown",
   "metadata": {},
   "source": [
    "<h3> SUBMISSION: Proyek Pertama : Membuat Model NLP dengan TensorFlow <h3>\n",
    "<h4> Delvin Fachrizky"
   ]
  },
  {
   "cell_type": "code",
   "execution_count": 37,
   "metadata": {},
   "outputs": [],
   "source": [
    "import pandas as pd\n",
    "import tensorflow as tf\n",
    "import matplotlib.pyplot as plt\n",
    "import re\n",
    "\n",
    "from sklearn.model_selection import train_test_split\n",
    "from tensorflow.keras.preprocessing.text import Tokenizer\n",
    "from tensorflow.keras.preprocessing.sequence import pad_sequences\n",
    "from tensorflow.keras.layers import LSTM,Dense,Embedding,Dropout\n",
    "from tensorflow.keras.models import Sequential\n",
    "from tensorflow.keras.optimizers import Adam\n"
   ]
  },
  {
   "cell_type": "code",
   "execution_count": 48,
   "metadata": {},
   "outputs": [],
   "source": [
    "# PENGGUNAAN CALLBACK\n",
    "\n",
    "class myCallback(tf.keras.callbacks.Callback):\n",
    "  def on_epoch_end(self, epoch, logs={}):\n",
    "    if(logs.get('accuracy')>0.9 and logs.get('val_accuracy')>0.9):\n",
    "      print(\"\\n accuracy is above > 90%\")\n",
    "      self.model.stop_training=True\n",
    "callbacks = myCallback()"
   ]
  },
  {
   "cell_type": "code",
   "execution_count": 2,
   "metadata": {},
   "outputs": [
    {
     "data": {
      "text/html": [
       "<div>\n",
       "<style scoped>\n",
       "    .dataframe tbody tr th:only-of-type {\n",
       "        vertical-align: middle;\n",
       "    }\n",
       "\n",
       "    .dataframe tbody tr th {\n",
       "        vertical-align: top;\n",
       "    }\n",
       "\n",
       "    .dataframe thead th {\n",
       "        text-align: right;\n",
       "    }\n",
       "</style>\n",
       "<table border=\"1\" class=\"dataframe\">\n",
       "  <thead>\n",
       "    <tr style=\"text-align: right;\">\n",
       "      <th></th>\n",
       "      <th>id</th>\n",
       "      <th>text</th>\n",
       "      <th>genre</th>\n",
       "    </tr>\n",
       "  </thead>\n",
       "  <tbody>\n",
       "    <tr>\n",
       "      <th>0</th>\n",
       "      <td>0</td>\n",
       "      <td>eady dead, maybe even wishing he was. INT. 2ND...</td>\n",
       "      <td>thriller</td>\n",
       "    </tr>\n",
       "    <tr>\n",
       "      <th>1</th>\n",
       "      <td>2</td>\n",
       "      <td>t, summa cum laude and all. And I'm about to l...</td>\n",
       "      <td>comedy</td>\n",
       "    </tr>\n",
       "    <tr>\n",
       "      <th>2</th>\n",
       "      <td>3</td>\n",
       "      <td>up Come, I have a surprise.... She takes him ...</td>\n",
       "      <td>drama</td>\n",
       "    </tr>\n",
       "    <tr>\n",
       "      <th>3</th>\n",
       "      <td>4</td>\n",
       "      <td>ded by the two detectives. INT. JEFF'S APARTME...</td>\n",
       "      <td>thriller</td>\n",
       "    </tr>\n",
       "    <tr>\n",
       "      <th>4</th>\n",
       "      <td>5</td>\n",
       "      <td>nd dismounts, just as the other children reach...</td>\n",
       "      <td>drama</td>\n",
       "    </tr>\n",
       "  </tbody>\n",
       "</table>\n",
       "</div>"
      ],
      "text/plain": [
       "   id                                               text     genre\n",
       "0   0  eady dead, maybe even wishing he was. INT. 2ND...  thriller\n",
       "1   2  t, summa cum laude and all. And I'm about to l...    comedy\n",
       "2   3   up Come, I have a surprise.... She takes him ...     drama\n",
       "3   4  ded by the two detectives. INT. JEFF'S APARTME...  thriller\n",
       "4   5  nd dismounts, just as the other children reach...     drama"
      ]
     },
     "execution_count": 2,
     "metadata": {},
     "output_type": "execute_result"
    }
   ],
   "source": [
    "# MENYIAPKAN DATASET\n",
    "dtfrm = pd.read_csv(\"kaggle_dataset.csv\")\n",
    "dtfrm.head()"
   ]
  },
  {
   "cell_type": "code",
   "execution_count": 3,
   "metadata": {},
   "outputs": [
    {
     "data": {
      "text/plain": [
       "drama        8873\n",
       "thriller     6824\n",
       "comedy       2941\n",
       "action       2392\n",
       "sci-fi        613\n",
       "horror        456\n",
       "other         270\n",
       "adventure     147\n",
       "romance        63\n",
       "Name: genre, dtype: int64"
      ]
     },
     "execution_count": 3,
     "metadata": {},
     "output_type": "execute_result"
    }
   ],
   "source": [
    "# MELIHAT VALUE DARI KOLOM GENRE\n",
    "dtfrm['genre'].value_counts()"
   ]
  },
  {
   "cell_type": "code",
   "execution_count": 35,
   "metadata": {},
   "outputs": [
    {
     "data": {
      "text/plain": [
       "comedy    2941\n",
       "action    2392\n",
       "horror     456\n",
       "Name: genre, dtype: int64"
      ]
     },
     "execution_count": 35,
     "metadata": {},
     "output_type": "execute_result"
    }
   ],
   "source": [
    "# MENYISIHKAN GENRE YANG TIDAK DIGUNAKAN UNTUK KALI INI DAN HANYA MENGGUNAKAN 3 CONTOH GENRE YAITU COMEDY, ACTION, DAN HORROR\n",
    "dtfrm = dtfrm[~dtfrm['genre'].isin(['drama','thriller','other','adventure','romance', 'sci-fi'])]\n",
    "dtfrm['genre'].value_counts()"
   ]
  },
  {
   "cell_type": "code",
   "execution_count": 38,
   "metadata": {},
   "outputs": [
    {
     "data": {
      "text/html": [
       "<div>\n",
       "<style scoped>\n",
       "    .dataframe tbody tr th:only-of-type {\n",
       "        vertical-align: middle;\n",
       "    }\n",
       "\n",
       "    .dataframe tbody tr th {\n",
       "        vertical-align: top;\n",
       "    }\n",
       "\n",
       "    .dataframe thead th {\n",
       "        text-align: right;\n",
       "    }\n",
       "</style>\n",
       "<table border=\"1\" class=\"dataframe\">\n",
       "  <thead>\n",
       "    <tr style=\"text-align: right;\">\n",
       "      <th></th>\n",
       "      <th>genre</th>\n",
       "      <th>Text</th>\n",
       "    </tr>\n",
       "  </thead>\n",
       "  <tbody>\n",
       "    <tr>\n",
       "      <th>1</th>\n",
       "      <td>comedy</td>\n",
       "      <td>t summa cum laude and all And I m about to lau...</td>\n",
       "    </tr>\n",
       "    <tr>\n",
       "      <th>9</th>\n",
       "      <td>action</td>\n",
       "      <td>e reels as the world spins Sweat pours off him...</td>\n",
       "    </tr>\n",
       "    <tr>\n",
       "      <th>20</th>\n",
       "      <td>comedy</td>\n",
       "      <td>I say he s a man who ll go far Some people sa...</td>\n",
       "    </tr>\n",
       "    <tr>\n",
       "      <th>25</th>\n",
       "      <td>comedy</td>\n",
       "      <td>you find out where the bachelor party is COLE ...</td>\n",
       "    </tr>\n",
       "    <tr>\n",
       "      <th>29</th>\n",
       "      <td>comedy</td>\n",
       "      <td>ibly horrendous public break up on the quad Ag...</td>\n",
       "    </tr>\n",
       "  </tbody>\n",
       "</table>\n",
       "</div>"
      ],
      "text/plain": [
       "     genre                                               Text\n",
       "1   comedy  t summa cum laude and all And I m about to lau...\n",
       "9   action  e reels as the world spins Sweat pours off him...\n",
       "20  comedy   I say he s a man who ll go far Some people sa...\n",
       "25  comedy  you find out where the bachelor party is COLE ...\n",
       "29  comedy  ibly horrendous public break up on the quad Ag..."
      ]
     },
     "execution_count": 38,
     "metadata": {},
     "output_type": "execute_result"
    }
   ],
   "source": [
    "# MENGHAPUS KARAKTER YANG TIDAK DIGUNAKAN\n",
    "dtfrm['Text'] = dtfrm['text'].map(lambda x: re.sub(r'\\W+', ' ', x))\n",
    "# MENGHAPUS KOLOM ID DAN TEXT\n",
    "dtfrm = dtfrm.drop(['id', 'text'], axis=1)\n",
    "dtfrm.head()"
   ]
  },
  {
   "cell_type": "code",
   "execution_count": 39,
   "metadata": {},
   "outputs": [
    {
     "data": {
      "text/html": [
       "<div>\n",
       "<style scoped>\n",
       "    .dataframe tbody tr th:only-of-type {\n",
       "        vertical-align: middle;\n",
       "    }\n",
       "\n",
       "    .dataframe tbody tr th {\n",
       "        vertical-align: top;\n",
       "    }\n",
       "\n",
       "    .dataframe thead th {\n",
       "        text-align: right;\n",
       "    }\n",
       "</style>\n",
       "<table border=\"1\" class=\"dataframe\">\n",
       "  <thead>\n",
       "    <tr style=\"text-align: right;\">\n",
       "      <th></th>\n",
       "      <th>Text</th>\n",
       "      <th>action</th>\n",
       "      <th>comedy</th>\n",
       "      <th>horror</th>\n",
       "    </tr>\n",
       "  </thead>\n",
       "  <tbody>\n",
       "    <tr>\n",
       "      <th>1</th>\n",
       "      <td>t summa cum laude and all And I m about to lau...</td>\n",
       "      <td>0</td>\n",
       "      <td>1</td>\n",
       "      <td>0</td>\n",
       "    </tr>\n",
       "    <tr>\n",
       "      <th>9</th>\n",
       "      <td>e reels as the world spins Sweat pours off him...</td>\n",
       "      <td>1</td>\n",
       "      <td>0</td>\n",
       "      <td>0</td>\n",
       "    </tr>\n",
       "    <tr>\n",
       "      <th>20</th>\n",
       "      <td>I say he s a man who ll go far Some people sa...</td>\n",
       "      <td>0</td>\n",
       "      <td>1</td>\n",
       "      <td>0</td>\n",
       "    </tr>\n",
       "    <tr>\n",
       "      <th>25</th>\n",
       "      <td>you find out where the bachelor party is COLE ...</td>\n",
       "      <td>0</td>\n",
       "      <td>1</td>\n",
       "      <td>0</td>\n",
       "    </tr>\n",
       "    <tr>\n",
       "      <th>29</th>\n",
       "      <td>ibly horrendous public break up on the quad Ag...</td>\n",
       "      <td>0</td>\n",
       "      <td>1</td>\n",
       "      <td>0</td>\n",
       "    </tr>\n",
       "  </tbody>\n",
       "</table>\n",
       "</div>"
      ],
      "text/plain": [
       "                                                 Text  action  comedy  horror\n",
       "1   t summa cum laude and all And I m about to lau...       0       1       0\n",
       "9   e reels as the world spins Sweat pours off him...       1       0       0\n",
       "20   I say he s a man who ll go far Some people sa...       0       1       0\n",
       "25  you find out where the bachelor party is COLE ...       0       1       0\n",
       "29  ibly horrendous public break up on the quad Ag...       0       1       0"
      ]
     },
     "execution_count": 39,
     "metadata": {},
     "output_type": "execute_result"
    }
   ],
   "source": [
    "# MEMBERIKAN LABEL GENRE\n",
    "genre = pd.get_dummies(dtfrm.genre)\n",
    "dtfrm_genre = pd.concat([dtfrm, genre], axis=1)\n",
    "dtfrm_genre = dtfrm_genre.drop(columns='genre')\n",
    "dtfrm_genre.head()"
   ]
  },
  {
   "cell_type": "code",
   "execution_count": 41,
   "metadata": {},
   "outputs": [],
   "source": [
    "# MENKONVERSI TIPE DATA MENJADI STR DAN MEMBUATNYA KE DALAM NUMPY ARRAY\n",
    "txt = dtfrm_genre['Text'].astype(str)\n",
    "label = dtfrm_genre[['action', 'horror', 'comedy']].values"
   ]
  },
  {
   "cell_type": "code",
   "execution_count": 42,
   "metadata": {},
   "outputs": [],
   "source": [
    "# MEMBUAT SPLIT DATASET SEBESAR 20% (TEST/VALIDATION)\n",
    "g_train, g_test, l_train, l_test = train_test_split(txt, label, test_size=0.2)"
   ]
  },
  {
   "cell_type": "code",
   "execution_count": 55,
   "metadata": {},
   "outputs": [
    {
     "name": "stdout",
     "output_type": "stream",
     "text": [
      "(1158, 200)\n"
     ]
    }
   ],
   "source": [
    "# PEMODELAN SEQUENTIAL DENGAN EMBEDDING DAN LSTM \n",
    "# TOKENIZER\n",
    "tokenizer = Tokenizer(num_words=5000, oov_token='x')\n",
    "tokenizer.fit_on_texts(g_train)\n",
    "\n",
    "seq_train = tokenizer.texts_to_sequences(g_train)\n",
    "seq_test = tokenizer.texts_to_sequences(g_test)\n",
    "\n",
    "pad_train = pad_sequences(seq_train, maxlen=200, truncating=\"post\")\n",
    "pad_test = pad_sequences(seq_test, maxlen=200, truncating=\"post\")\n",
    "\n",
    "sq_train = tokenizer.texts_to_sequences(g_train)\n",
    "sq_test = tokenizer.texts_to_sequences(g_test)\n",
    "\n",
    "print(pad_test.shape)"
   ]
  },
  {
   "cell_type": "code",
   "execution_count": 60,
   "metadata": {},
   "outputs": [
    {
     "name": "stdout",
     "output_type": "stream",
     "text": [
      "Model: \"sequential_10\"\n",
      "_________________________________________________________________\n",
      " Layer (type)                Output Shape              Param #   \n",
      "=================================================================\n",
      " embedding_10 (Embedding)    (None, 200, 64)           320000    \n",
      "                                                                 \n",
      " lstm_10 (LSTM)              (None, 128)               98816     \n",
      "                                                                 \n",
      " dense_20 (Dense)            (None, 128)               16512     \n",
      "                                                                 \n",
      " dropout_10 (Dropout)        (None, 128)               0         \n",
      "                                                                 \n",
      " dense_21 (Dense)            (None, 3)                 387       \n",
      "                                                                 \n",
      "=================================================================\n",
      "Total params: 435,715\n",
      "Trainable params: 435,715\n",
      "Non-trainable params: 0\n",
      "_________________________________________________________________\n"
     ]
    }
   ],
   "source": [
    "model = tf.keras.Sequential([\n",
    "    tf.keras.layers.Embedding(input_dim=5000, output_dim=64, input_length=200),\n",
    "    tf.keras.layers.LSTM(128),\n",
    "    tf.keras.layers.Dense(128, activation='relu'),\n",
    "    tf.keras.layers.Dropout(0.5),\n",
    "    tf.keras.layers.Dense(3, activation='softmax')\n",
    "])\n",
    "model.compile(optimizer='adam', metrics=['accuracy'], loss='categorical_crossentropy',)\n",
    "model.summary()"
   ]
  },
  {
   "cell_type": "code",
   "execution_count": 61,
   "metadata": {},
   "outputs": [
    {
     "name": "stdout",
     "output_type": "stream",
     "text": [
      "Epoch 1/30\n",
      "145/145 - 14s - loss: 0.9108 - accuracy: 0.5118 - val_loss: 0.7736 - val_accuracy: 0.7323 - 14s/epoch - 95ms/step\n",
      "Epoch 2/30\n",
      "145/145 - 12s - loss: 0.4380 - accuracy: 0.8469 - val_loss: 0.3426 - val_accuracy: 0.8860 - 12s/epoch - 86ms/step\n",
      "Epoch 3/30\n",
      "145/145 - 13s - loss: 0.2376 - accuracy: 0.9331 - val_loss: 0.3516 - val_accuracy: 0.8860 - 13s/epoch - 86ms/step\n",
      "Epoch 4/30\n",
      "145/145 - 13s - loss: 0.0994 - accuracy: 0.9724 - val_loss: 0.3703 - val_accuracy: 0.8679 - 13s/epoch - 87ms/step\n",
      "Epoch 5/30\n",
      "\n",
      " accuracy is above > 90%\n",
      "145/145 - 13s - loss: 0.0610 - accuracy: 0.9829 - val_loss: 0.2917 - val_accuracy: 0.9180 - 13s/epoch - 87ms/step\n"
     ]
    }
   ],
   "source": [
    "# WAKTU YANG DIBUTUHKAN HANYA KURAND DARI 2 MENIT\n",
    "\n",
    "num_epochs = 30\n",
    "history = model.fit(pad_train, l_train, epochs=num_epochs, \n",
    "                    validation_data=(pad_test, l_test), verbose=2, callbacks=[callbacks])"
   ]
  },
  {
   "cell_type": "code",
   "execution_count": 46,
   "metadata": {},
   "outputs": [
    {
     "data": {
      "image/png": "[encoded data removed]",
      "text/plain": [
       "<Figure size 432x288 with 1 Axes>"
      ]
     },
     "metadata": {
      "needs_background": "light"
     },
     "output_type": "display_data"
    }
   ],
   "source": [
    "# MEMBUAT GRAFIK VISUALISASI DARI MODEL ACCURACY\n",
    "plt.plot(history.history['accuracy'])\n",
    "plt.plot(history.history['val_accuracy'])\n",
    "plt.title('Model Accuracy')\n",
    "plt.ylabel('accuracy')\n",
    "plt.xlabel('epoch')\n",
    "plt.legend(['train', 'test'], loc='upper left')\n",
    "plt.show()"
   ]
  },
  {
   "cell_type": "code",
   "execution_count": 47,
   "metadata": {},
   "outputs": [
    {
     "data": {
      "image/png": "[encoded data removed]",
      "text/plain": [
       "<Figure size 432x288 with 1 Axes>"
      ]
     },
     "metadata": {
      "needs_background": "light"
     },
     "output_type": "display_data"
    }
   ],
   "source": [
    "# MEMBUAT GRAFIK VISUALISASI DARI MODEL LOSS\n",
    "plt.plot(history.history['loss'])\n",
    "plt.plot(history.history['val_loss'])\n",
    "plt.title('Model Loss')\n",
    "plt.ylabel('loss')\n",
    "plt.xlabel('epoch')\n",
    "plt.legend(['train', 'test'], loc='upper left')\n",
    "plt.show()"
   ]
  }
 ],
 "metadata": {
  "kernelspec": {
   "display_name": "Python 3.10.4 64-bit",
   "language": "python",
   "name": "python3"
  },
  "language_info": {
   "codemirror_mode": {
    "name": "ipython",
    "version": 3
   },
   "file_extension": ".py",
   "mimetype": "text/x-python",
   "name": "python",
   "nbconvert_exporter": "python",
   "pygments_lexer": "ipython3",
   "version": "3.10.4"
  },
  "orig_nbformat": 4,
  "vscode": {
   "interpreter": {
    "hash": "4352be4e2ab9f792debb19cbf3aab2ff4e8953c18ffe2d213d21519b7f2186be"
   }
  }
 },
 "nbformat": 4,
 "nbformat_minor": 2
}
